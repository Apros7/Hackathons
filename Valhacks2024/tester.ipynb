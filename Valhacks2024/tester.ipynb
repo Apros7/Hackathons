{
 "cells": [
  {
   "cell_type": "code",
   "execution_count": 6,
   "metadata": {},
   "outputs": [],
   "source": [
    "import torchaudio\n",
    "import torch\n",
    "import numpy as np\n",
    "import scipy"
   ]
  },
  {
   "cell_type": "code",
   "execution_count": 3,
   "metadata": {},
   "outputs": [
    {
     "name": "stdout",
     "output_type": "stream",
     "text": [
      "data.rar\n",
      "tester.m4a\n",
      "tester.mp3\n"
     ]
    }
   ],
   "source": [
    "import subprocess\n",
    "from pathlib import Path\n",
    "import os\n",
    "\n",
    "for file in os.listdir(\"Data\"):\n",
    "    if not file.endswith(\".wav\"):\n",
    "        print(file)\n",
    "        file_input = os.path.join(\"Data\",file)\n",
    "        file_output = os.path.join(\"Data\", f\"converted_{Path(file).suffix[1:]}_{Path(file).stem}.wav\")\n",
    "        subprocess.run([\"ffmpeg\", \"-i\", file_input, file_output])"
   ]
  },
  {
   "cell_type": "code",
   "execution_count": 5,
   "metadata": {},
   "outputs": [
    {
     "ename": "NameError",
     "evalue": "name 'torchaudio' is not defined",
     "output_type": "error",
     "traceback": [
      "\u001b[1;31m---------------------------------------------------------------------------\u001b[0m",
      "\u001b[1;31mNameError\u001b[0m                                 Traceback (most recent call last)",
      "\u001b[1;32mc:\\Users\\alexa\\Documents\\GitHub\\DevoData2024\\Valhack\\tester.ipynb Cell 3\u001b[0m line \u001b[0;36m1\n\u001b[1;32m----> <a href='vscode-notebook-cell:/c%3A/Users/alexa/Documents/GitHub/DevoData2024/Valhack/tester.ipynb#W2sZmlsZQ%3D%3D?line=0'>1</a>\u001b[0m waveform, sr \u001b[39m=\u001b[39m torchaudio\u001b[39m.\u001b[39mload(\u001b[39m\"\u001b[39m\u001b[39mtester.wav\u001b[39m\u001b[39m\"\u001b[39m, \u001b[39mformat\u001b[39m\u001b[39m=\u001b[39m\u001b[39m\"\u001b[39m\u001b[39mmp3\u001b[39m\u001b[39m\"\u001b[39m) \u001b[39m# this returns a tuple of the waveform and the sample rate\u001b[39;00m\n\u001b[0;32m      <a href='vscode-notebook-cell:/c%3A/Users/alexa/Documents/GitHub/DevoData2024/Valhack/tester.ipynb#W2sZmlsZQ%3D%3D?line=1'>2</a>\u001b[0m waveform, sr\n",
      "\u001b[1;31mNameError\u001b[0m: name 'torchaudio' is not defined"
     ]
    }
   ],
   "source": [
    "waveform, sr = torchaudio.load(\"tester.wav\", format=\"mp3\") # this returns a tuple of the waveform and the sample rate\n",
    "waveform, sr"
   ]
  }
 ],
 "metadata": {
  "kernelspec": {
   "display_name": "Python 3",
   "language": "python",
   "name": "python3"
  },
  "language_info": {
   "codemirror_mode": {
    "name": "ipython",
    "version": 3
   },
   "file_extension": ".py",
   "mimetype": "text/x-python",
   "name": "python",
   "nbconvert_exporter": "python",
   "pygments_lexer": "ipython3",
   "version": "3.9.13"
  },
  "orig_nbformat": 4
 },
 "nbformat": 4,
 "nbformat_minor": 2
}
