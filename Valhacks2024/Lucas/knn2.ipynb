{
 "cells": [
  {
   "cell_type": "code",
   "execution_count": 6,
   "metadata": {},
   "outputs": [],
   "source": [
    "import torchaudio\n",
    "import torch\n",
    "from sklearn.cluster import KMeans\n",
    "from sklearn.preprocessing import StandardScaler\n",
    "from torchaudio.transforms import MelScale, Spectrogram\n",
    "from torch.nn import functional as F\n",
    "import matplotlib.pyplot as plt"
   ]
  },
  {
   "cell_type": "code",
   "execution_count": 7,
   "metadata": {},
   "outputs": [
    {
     "name": "stdout",
     "output_type": "stream",
     "text": [
      "x\n",
      "x\n"
     ]
    },
    {
     "ename": "",
     "evalue": "",
     "output_type": "error",
     "traceback": [
      "\u001b[1;31mThe Kernel crashed while executing code in the the current cell or a previous cell. Please review the code in the cell(s) to identify a possible cause of the failure. Click <a href='https://aka.ms/vscodeJupyterKernelCrash'>here</a> for more info. View Jupyter <a href='command:jupyter.viewOutput'>log</a> for further details."
     ]
    },
    {
     "ename": "",
     "evalue": "",
     "output_type": "error",
     "traceback": [
      "\u001b[1;31mCanceled future for execute_request message before replies were done"
     ]
    }
   ],
   "source": [
    "# Load the Audio file\n",
    "wf1, sr1 = torchaudio.load(\"../Data/240519 0500 Subject 1.wav\")\n",
    "print(\"x\")\n",
    "\n",
    "# Convert the wave form to mono\n",
    "wf1_mono = torch.mean(wf1, dim=0)\n",
    "\n",
    "print(\"x\")\n",
    "# Create a spectrogram\n",
    "spectrogram_transform = Spectrogram()\n",
    "spectrogram = spectrogram_transform(wf1_mono)\n",
    "print(\"x\")\n",
    "\n",
    "# Apply mel scale \n",
    "mel_transform = MelScale(n_mels=40, sample_rate=sr1)\n",
    "mfcc_transform = torchaudio.transforms.MFCC(sample_rate=sr1,\n",
    "                                             melkwargs={'n_fft': 400, 'hop_length': 160})\n",
    "\n",
    "print(\"x\")\n",
    "mfcc = mfcc_transform(wf1)\n",
    "\n",
    "# Avoid dimension mismatch\n",
    "mfcc_reshaped = torch.reshape(mfcc, (mfcc.shape[1], -1))\n",
    "\n",
    "print(\"x\")\n",
    "# Convert tensor to numpy array\n",
    "mfcc_np = mfcc_reshaped.detach().numpy()\n",
    "\n",
    "print(\"x\")\n",
    "# Standardize the features\n",
    "scaler = StandardScaler()\n",
    "mfcc_scaled = scaler.fit_transform(mfcc_np)\n",
    "\n",
    "print(\"x\")\n",
    "# Implement KMeans Clustering\n",
    "kmeans = KMeans(n_clusters=6, random_state=42)\n",
    "kmeans.fit(mfcc_scaled)\n",
    "\n",
    "print(\"x\")\n",
    "# Get the cluster labels\n",
    "labels = kmeans.labels_"
   ]
  },
  {
   "cell_type": "code",
   "execution_count": null,
   "metadata": {},
   "outputs": [],
   "source": [
    "plt.figure(figsize=(10, 8))\n",
    "plt.scatter(mfcc_scaled[0], mfcc_scaled[1], c=labels)\n",
    "plt.scatter(kmeans.cluster_centers_[:,0] ,kmeans.cluster_centers_[:,1], color='red')\n",
    "plt.xlabel('MFCC Coefficient 1')\n",
    "plt.ylabel('MFCC Coefficient 2')\n",
    "plt.title('Clusters of audio data')\n",
    "plt.show()"
   ]
  }
 ],
 "metadata": {
  "kernelspec": {
   "display_name": "Python 3.12.2 64-bit",
   "language": "python",
   "name": "python3"
  },
  "language_info": {
   "codemirror_mode": {
    "name": "ipython",
    "version": 3
   },
   "file_extension": ".py",
   "mimetype": "text/x-python",
   "name": "python",
   "nbconvert_exporter": "python",
   "pygments_lexer": "ipython3",
   "version": "3.12.3"
  },
  "orig_nbformat": 4,
  "vscode": {
   "interpreter": {
    "hash": "b0fa6594d8f4cbf19f97940f81e996739fb7646882a419484c72d19e05852a7e"
   }
  }
 },
 "nbformat": 4,
 "nbformat_minor": 2
}
