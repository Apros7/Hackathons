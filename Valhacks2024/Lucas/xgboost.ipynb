{
 "cells": [
  {
   "cell_type": "code",
   "execution_count": 1,
   "metadata": {},
   "outputs": [
    {
     "data": {
      "text/plain": [
       "0.9666666666666667"
      ]
     },
     "execution_count": 1,
     "metadata": {},
     "output_type": "execute_result"
    }
   ],
   "source": [
    "from xgboost import XGBClassifier\n",
    "# read data\n",
    "from sklearn.datasets import load_iris\n",
    "from sklearn.model_selection import train_test_split\n",
    "data = load_iris()\n",
    "X_train, X_test, y_train, y_test = train_test_split(data['data'], data['target'], test_size=.2)\n",
    "# create model instance\n",
    "bst = XGBClassifier(n_estimators=2, max_depth=2, learning_rate=1, objective='binary:logistic')\n",
    "# fit model\n",
    "bst.fit(X_train, y_train)\n",
    "# make predictions\n",
    "preds = bst.predict(X_test)\n",
    "sum(preds == y_test)/len(preds)"
   ]
  },
  {
   "cell_type": "code",
   "execution_count": 8,
   "metadata": {},
   "outputs": [
    {
     "data": {
      "text/plain": [
       "array([[5.7, 2.8, 4.5, 1.3],\n",
       "       [5.7, 2.8, 4.1, 1.3],\n",
       "       [5.8, 2.7, 5.1, 1.9],\n",
       "       [5.5, 2.6, 4.4, 1.2],\n",
       "       [6.1, 3. , 4.6, 1.4],\n",
       "       [6.1, 2.8, 4.7, 1.2],\n",
       "       [5.2, 4.1, 1.5, 0.1],\n",
       "       [5. , 3.4, 1.5, 0.2],\n",
       "       [6.4, 3.1, 5.5, 1.8],\n",
       "       [5.1, 3.8, 1.6, 0.2],\n",
       "       [6.9, 3.1, 5.1, 2.3],\n",
       "       [5.5, 3.5, 1.3, 0.2],\n",
       "       [5. , 3.6, 1.4, 0.2],\n",
       "       [5.1, 3.8, 1.9, 0.4],\n",
       "       [5.8, 4. , 1.2, 0.2],\n",
       "       [6. , 2.2, 5. , 1.5],\n",
       "       [6.7, 3.1, 5.6, 2.4],\n",
       "       [4.4, 2.9, 1.4, 0.2],\n",
       "       [6.7, 3.3, 5.7, 2.1],\n",
       "       [6.7, 3.1, 4.7, 1.5],\n",
       "       [4.9, 3.6, 1.4, 0.1],\n",
       "       [6.6, 3. , 4.4, 1.4],\n",
       "       [5.7, 2.6, 3.5, 1. ],\n",
       "       [7. , 3.2, 4.7, 1.4],\n",
       "       [6.3, 2.7, 4.9, 1.8],\n",
       "       [5.7, 2.5, 5. , 2. ],\n",
       "       [5.5, 2.3, 4. , 1.3],\n",
       "       [5.2, 3.4, 1.4, 0.2],\n",
       "       [6.8, 3. , 5.5, 2.1],\n",
       "       [7.7, 3.8, 6.7, 2.2]])"
      ]
     },
     "execution_count": 8,
     "metadata": {},
     "output_type": "execute_result"
    }
   ],
   "source": [
    "X_test"
   ]
  },
  {
   "cell_type": "code",
   "execution_count": null,
   "metadata": {},
   "outputs": [],
   "source": []
  }
 ],
 "metadata": {
  "kernelspec": {
   "display_name": "Python 3.11.2 64-bit",
   "language": "python",
   "name": "python3"
  },
  "language_info": {
   "codemirror_mode": {
    "name": "ipython",
    "version": 3
   },
   "file_extension": ".py",
   "mimetype": "text/x-python",
   "name": "python",
   "nbconvert_exporter": "python",
   "pygments_lexer": "ipython3",
   "version": "3.11.2"
  },
  "orig_nbformat": 4,
  "vscode": {
   "interpreter": {
    "hash": "5c7b89af1651d0b8571dde13640ecdccf7d5a6204171d6ab33e7c296e100e08a"
   }
  }
 },
 "nbformat": 4,
 "nbformat_minor": 2
}
