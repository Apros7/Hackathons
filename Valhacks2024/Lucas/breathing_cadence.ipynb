{
 "cells": [
  {
   "cell_type": "code",
   "execution_count": 8,
   "metadata": {},
   "outputs": [
    {
     "name": "stdout",
     "output_type": "stream",
     "text": [
      "        Time Label phase 1 Breathing Cadence Label Phase 2\n",
      "18  00:00:38     Breathing                 x     Breathing\n",
      "19  00:00:40     Breathing                 x     Breathing\n",
      "20  00:00:42     Breathing                 x     Breathing\n",
      "21  00:00:44     Breathing                 x     Breathing\n",
      "22  00:00:46     Breathing                 x     Breathing\n"
     ]
    }
   ],
   "source": [
    "import pandas as pd\n",
    "\n",
    "file_path = '../Data/240515 Subject 5 labelled.xlsx'\n",
    "df = pd.read_excel(file_path)\n",
    "df_breath = df[df[\"Label phase 1\"] == \"Breathing\"]\n",
    "breathing_indexes = df_breath.index\n",
    "print(df_breath.head())"
   ]
  },
  {
   "cell_type": "code",
   "execution_count": 7,
   "metadata": {},
   "outputs": [],
   "source": [
    "breathing_indexes = df_breath.index"
   ]
  },
  {
   "cell_type": "code",
   "execution_count": null,
   "metadata": {},
   "outputs": [],
   "source": []
  }
 ],
 "metadata": {
  "kernelspec": {
   "display_name": "Python 3.12.2 64-bit",
   "language": "python",
   "name": "python3"
  },
  "language_info": {
   "codemirror_mode": {
    "name": "ipython",
    "version": 3
   },
   "file_extension": ".py",
   "mimetype": "text/x-python",
   "name": "python",
   "nbconvert_exporter": "python",
   "pygments_lexer": "ipython3",
   "version": "3.12.3"
  },
  "orig_nbformat": 4,
  "vscode": {
   "interpreter": {
    "hash": "b0fa6594d8f4cbf19f97940f81e996739fb7646882a419484c72d19e05852a7e"
   }
  }
 },
 "nbformat": 4,
 "nbformat_minor": 2
}
