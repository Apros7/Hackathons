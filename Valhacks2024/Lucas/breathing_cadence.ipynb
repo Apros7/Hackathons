{
 "cells": [
  {
   "cell_type": "code",
   "execution_count": 3,
   "metadata": {},
   "outputs": [],
   "source": [
    "import torchaudio"
   ]
  },
  {
   "cell_type": "code",
   "execution_count": 4,
   "metadata": {},
   "outputs": [
    {
     "name": "stdout",
     "output_type": "stream",
     "text": [
      "        Time Label phase 1 Breathing Cadence Label Phase 2\n",
      "18  00:00:38     Breathing                 x     Breathing\n",
      "19  00:00:40     Breathing                 x     Breathing\n",
      "20  00:00:42     Breathing                 x     Breathing\n",
      "21  00:00:44     Breathing                 x     Breathing\n",
      "22  00:00:46     Breathing                 x     Breathing\n"
     ]
    }
   ],
   "source": [
    "import pandas as pd\n",
    "\n",
    "file_path = '../Data/240515 Subject 5 labelled.xlsx'\n",
    "df = pd.read_excel(file_path)\n",
    "df_breath = df[df[\"Label phase 1\"] == \"Breathing\"]\n",
    "breathing_indexes = df_breath.index\n",
    "print(df_breath.head())"
   ]
  },
  {
   "cell_type": "code",
   "execution_count": 5,
   "metadata": {},
   "outputs": [],
   "source": [
    "breathing_indexes = df_breath.index"
   ]
  },
  {
   "cell_type": "code",
   "execution_count": 7,
   "metadata": {},
   "outputs": [
    {
     "name": "stderr",
     "output_type": "stream",
     "text": [
      "/var/folders/pl/7f1cr2657p3bnpdt3bnm_9w00000gn/T/ipykernel_11674/2945954212.py:4: UserWarning: The use of `x.T` on tensors of dimension other than 2 to reverse their shape is deprecated and it will throw an error in a future release. Consider `x.mT` to transpose batches of matrices or `x.permute(*torch.arange(x.ndim - 1, -1, -1))` to reverse the dimensions of a tensor. (Triggered internally at /Users/runner/work/pytorch/pytorch/pytorch/aten/src/ATen/native/TensorShape.cpp:3679.)\n",
      "  spec_out = waveform_out[:waveform_out.shape[0] // GROUPBY * GROUPBY].T\n"
     ]
    },
    {
     "data": {
      "text/plain": [
       "torch.Size([14435, 96000])"
      ]
     },
     "execution_count": 7,
     "metadata": {},
     "output_type": "execute_result"
    }
   ],
   "source": [
    "waveform, sr = torchaudio.load(\"../Data/converted_mp3_240515 Subject 5.wav\") # this returns a tuple of the waveform and the sample rate\n",
    "waveform_out = waveform[0]\n",
    "GROUPBY = 2 * sr # 1 seconds\n",
    "spec_out = waveform_out[:waveform_out.shape[0] // GROUPBY * GROUPBY].T\n",
    "wf_grouped = spec_out.reshape(-1, GROUPBY)\n",
    "wf_grouped.shape"
   ]
  },
  {
   "cell_type": "code",
   "execution_count": 8,
   "metadata": {},
   "outputs": [],
   "source": [
    "result = []\n",
    "current_group = [breathing_indexes[0]]\n",
    "\n",
    "for idx in breathing_indexes[1:]:\n",
    "    if idx == current_group[-1] + 1:\n",
    "        current_group.append(idx)\n",
    "    else:\n",
    "        result.append(current_group)\n",
    "        current_group = [idx]\n",
    "\n",
    "result.append(current_group)"
   ]
  },
  {
   "cell_type": "code",
   "execution_count": 56,
   "metadata": {},
   "outputs": [
    {
     "data": {
      "text/plain": [
       "[[799, 800], [832], [837]]"
      ]
     },
     "execution_count": 56,
     "metadata": {},
     "output_type": "execute_result"
    }
   ],
   "source": [
    "result[-3:]"
   ]
  },
  {
   "cell_type": "code",
   "execution_count": 10,
   "metadata": {},
   "outputs": [
    {
     "name": "stderr",
     "output_type": "stream",
     "text": [
      "100%|██████████| 41/41 [00:00<00:00, 177.85it/s]\n"
     ]
    }
   ],
   "source": [
    "import numpy as np\n",
    "from tqdm import tqdm\n",
    "\n",
    "breathing_files = []\n",
    "for lst in tqdm(result):\n",
    "    temp_list = []\n",
    "    \n",
    "    for v in lst:\n",
    "        temp_list.append(wf_grouped[v])\n",
    "    \n",
    "    temp = np.concatenate(temp_list)\n",
    "    breathing_files.append(temp)"
   ]
  },
  {
   "cell_type": "code",
   "execution_count": 45,
   "metadata": {},
   "outputs": [],
   "source": [
    "def breathing_map(var):\n",
    "    if var < 300:\n",
    "        return \"Stable\"\n",
    "    elif var < 500: \n",
    "        return \"Slightly unstable\"\n",
    "    else:\n",
    "        return \"Dangerous\""
   ]
  },
  {
   "cell_type": "code",
   "execution_count": 51,
   "metadata": {},
   "outputs": [],
   "source": [
    "def find_middle_indices(mask, DISTANCE, DISTANCE_NEXT):\n",
    "    saved_indices = []\n",
    "    n = len(mask)\n",
    "    \n",
    "    for i in range(DISTANCE, n - DISTANCE):\n",
    "        if all(mask[i - DISTANCE:i]) and all(mask[i + 1:i + 1 + DISTANCE]):\n",
    "            # Check if this index is far enough from the last saved index\n",
    "            if not saved_indices or (i - saved_indices[-1]) >= DISTANCE_NEXT:\n",
    "                saved_indices.append(i)\n",
    "    \n",
    "    return np.array(saved_indices)"
   ]
  },
  {
   "cell_type": "code",
   "execution_count": 54,
   "metadata": {},
   "outputs": [
    {
     "name": "stdout",
     "output_type": "stream",
     "text": [
      "Estimated breathing rate:  27.102403969544014  breaths per minute | With variance:  Stable\n",
      "Estimated breathing rate:  26.90552796493313  breaths per minute | With variance:  Stable\n",
      "Could not get breathing rate.\n",
      "Estimated breathing rate:  20.35122828142357  breaths per minute | With variance:  Stable\n",
      "Could not get breathing rate.\n",
      "Estimated breathing rate:  20.390776005909547  breaths per minute | With variance:  Stable\n",
      "Could not get breathing rate.\n",
      "Estimated breathing rate:  20.47628350037462  breaths per minute | With variance:  Stable\n",
      "Estimated breathing rate:  18.478990841777915  breaths per minute | With variance:  Stable\n",
      "Estimated breathing rate:  19.31081436551287  breaths per minute | With variance:  Stable\n",
      "Estimated breathing rate:  19.663851913716115  breaths per minute | With variance:  Stable\n",
      "Estimated breathing rate:  22.566288472387637  breaths per minute | With variance:  Stable\n",
      "Estimated breathing rate:  58.80071050858531  breaths per minute | With variance:  Stable\n",
      "Estimated breathing rate:  19.406829758364147  breaths per minute | With variance:  Stable\n",
      "Estimated breathing rate:  12.081094345796158  breaths per minute | With variance:  Stable\n",
      "Estimated breathing rate:  13.915858022170026  breaths per minute | With variance:  Stable\n",
      "Estimated breathing rate:  48.19922345695542  breaths per minute | With variance:  Stable\n",
      "Estimated breathing rate:  11.926700486592814  breaths per minute | With variance:  Stable\n",
      "Estimated breathing rate:  14.555238231759088  breaths per minute | With variance:  Stable\n",
      "Estimated breathing rate:  41.83857283979313  breaths per minute | With variance:  Stable\n",
      "Estimated breathing rate:  11.733478915386543  breaths per minute | With variance:  Stable\n",
      "Could not get breathing rate.\n",
      "Estimated breathing rate:  10.936639641521255  breaths per minute | With variance:  Stable\n",
      "Could not get breathing rate.\n",
      "Could not get breathing rate.\n",
      "Estimated breathing rate:  22.638750781154812  breaths per minute | With variance:  Slightly unstable\n",
      "Could not get breathing rate.\n",
      "Could not get breathing rate.\n",
      "Estimated breathing rate:  28.974426044789634  breaths per minute | With variance:  Stable\n",
      "Could not get breathing rate.\n",
      "Could not get breathing rate.\n",
      "Could not get breathing rate.\n",
      "Could not get breathing rate.\n",
      "Estimated breathing rate:  15.809466650076486  breaths per minute | With variance:  Stable\n",
      "Estimated breathing rate:  7.074515776415825  breaths per minute | With variance:  Stable\n",
      "Estimated breathing rate:  18.03607214428858  breaths per minute | With variance:  Stable\n",
      "Estimated breathing rate:  15.217161576667019  breaths per minute | With variance:  Stable\n",
      "Could not get breathing rate.\n",
      "Could not get breathing rate.\n",
      "Could not get breathing rate.\n"
     ]
    }
   ],
   "source": [
    "from scipy.signal import butter, filtfilt, savgol_filter, argrelextrema, find_peaks\n",
    "import numpy as np\n",
    "import librosa\n",
    "import matplotlib.pyplot as plt\n",
    "\n",
    "for signal in breathing_files:\n",
    "    # plt.plot(np.linspace(0, len(signal)/sr, len(signal)), signal)\n",
    "\n",
    "    lowcut = 1000\n",
    "    highcut = 10000\n",
    "    nyquist = 0.5 * sr\n",
    "    low = lowcut / nyquist\n",
    "    high = highcut / nyquist\n",
    "    b, a = butter(1, [low, high], btype='band')\n",
    "    filtered_signal = filtfilt(b, a, signal)\n",
    "    min_25_procent = np.mean(np.abs(sorted(filtered_signal)[:len(filtered_signal)//4]))\n",
    "    top_25_procent = np.mean(np.abs(sorted(filtered_signal)[len(filtered_signal)//4:]))\n",
    "    mask = abs(filtered_signal) > top_25_procent\n",
    "\n",
    "\n",
    "\n",
    "    # plt.plot(np.linspace(0, len(signal)/sr, len(signal)), filtered_signal)\n",
    "    # plt.axhline(y=low, color='r', linestyle='--', label=f'Low cut: {lowcut} Hz')\n",
    "    # plt.axhline(y=high, color='g', linestyle='--', label=f'High cut: {highcut} Hz')\n",
    "\n",
    "    # Generate a mask where the distance condition is fulfilled\n",
    "    # Apply the mask to the extrema search\n",
    "    peaks = find_middle_indices(mask, 20, sr)\n",
    "    if len(peaks) == 0:\n",
    "        continue\n",
    "\n",
    "    # print(peaks/sr)\n",
    "\n",
    "    # plt.scatter(peaks/sr, [0.004 for x in peaks])\n",
    "\n",
    "    breath_durations = np.diff(peaks) / sr\n",
    "\n",
    "    avg_breath_duration = np.mean(breath_durations)\n",
    "    breathing_rate = 60 / avg_breath_duration  # Convert breath duration to breaths per minute\n",
    "\n",
    "    breathing_rate_per_minute = 60/breath_durations\n",
    "    breathing_rate_variance = np.var(breathing_rate_per_minute)\n",
    "    breathing_rate_variance_string = breathing_map(breathing_rate_variance)\n",
    "    if np.isnan(breathing_rate):\n",
    "        print(\"Could not get breathing rate.\")\n",
    "    else:\n",
    "        print('Estimated breathing rate: ', breathing_rate, ' breaths per minute | With variance: ', breathing_rate_variance_string)"
   ]
  },
  {
   "cell_type": "code",
   "execution_count": null,
   "metadata": {},
   "outputs": [],
   "source": []
  },
  {
   "cell_type": "code",
   "execution_count": null,
   "metadata": {},
   "outputs": [],
   "source": []
  }
 ],
 "metadata": {
  "kernelspec": {
   "display_name": "Python 3.12.2 64-bit",
   "language": "python",
   "name": "python3"
  },
  "language_info": {
   "codemirror_mode": {
    "name": "ipython",
    "version": 3
   },
   "file_extension": ".py",
   "mimetype": "text/x-python",
   "name": "python",
   "nbconvert_exporter": "python",
   "pygments_lexer": "ipython3",
   "version": "3.12.3"
  },
  "orig_nbformat": 4,
  "vscode": {
   "interpreter": {
    "hash": "b0fa6594d8f4cbf19f97940f81e996739fb7646882a419484c72d19e05852a7e"
   }
  }
 },
 "nbformat": 4,
 "nbformat_minor": 2
}
